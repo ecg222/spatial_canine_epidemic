{
 "cells": [
  {
   "cell_type": "code",
   "execution_count": 1,
   "metadata": {},
   "outputs": [],
   "source": [
    "import pandas as pd\n",
    "import seaborn as sns\n",
    "import matplotlib.pyplot as plt\n",
    "import dog_epidemic.Utils as utils\n",
    "from datetime import date\n",
    "import numpy as np\n",
    "import shapely\n",
    "from shapely import Point\n",
    "from shapely import Polygon\n",
    "import random\n",
    "import geopandas as gp"
   ]
  },
  {
   "cell_type": "code",
   "execution_count": 2,
   "metadata": {},
   "outputs": [],
   "source": [
    "all_dogs = gp.read_parquet('ALLNYCDogs.parquet')"
   ]
  },
  {
   "cell_type": "code",
   "execution_count": 24,
   "metadata": {},
   "outputs": [
    {
     "name": "stdout",
     "output_type": "stream",
     "text": [
      "0 dogs exposed\n",
      "0 dogs exposed\n",
      "0 dogs exposed\n",
      "0 dogs exposed\n",
      "0 dogs exposed\n",
      "0 dogs exposed\n",
      "0 dogs exposed\n",
      "0 dogs exposed\n",
      "0 dogs exposed\n",
      "0 dogs exposed\n"
     ]
    },
    {
     "ename": "ValueError",
     "evalue": "aspect must be finite and positive ",
     "output_type": "error",
     "traceback": [
      "\u001b[0;31m---------------------------------------------------------------------------\u001b[0m",
      "\u001b[0;31mValueError\u001b[0m                                Traceback (most recent call last)",
      "Cell \u001b[0;32mIn[24], line 90\u001b[0m\n\u001b[1;32m     88\u001b[0m fig, ax \u001b[38;5;241m=\u001b[39m plt\u001b[38;5;241m.\u001b[39msubplots(figsize\u001b[38;5;241m=\u001b[39m(\u001b[38;5;241m15\u001b[39m, \u001b[38;5;241m15\u001b[39m))\n\u001b[1;32m     89\u001b[0m figname \u001b[38;5;241m=\u001b[39m \u001b[38;5;124m'\u001b[39m\u001b[38;5;124mFigures/\u001b[39m\u001b[38;5;124m'\u001b[39m \u001b[38;5;241m+\u001b[39m \u001b[38;5;28mstr\u001b[39m(frame) \u001b[38;5;241m+\u001b[39m \u001b[38;5;124m'\u001b[39m\u001b[38;5;124m.png\u001b[39m\u001b[38;5;124m'\u001b[39m\n\u001b[0;32m---> 90\u001b[0m \u001b[43mexposed_dogs\u001b[49m\u001b[43m[\u001b[49m\u001b[38;5;124;43m'\u001b[39;49m\u001b[38;5;124;43mgeometry\u001b[39;49m\u001b[38;5;124;43m'\u001b[39;49m\u001b[43m]\u001b[49m\u001b[38;5;241;43m.\u001b[39;49m\u001b[43mplot\u001b[49m\u001b[43m(\u001b[49m\u001b[43max\u001b[49m\u001b[43m \u001b[49m\u001b[38;5;241;43m=\u001b[39;49m\u001b[43m \u001b[49m\u001b[43max\u001b[49m\u001b[43m,\u001b[49m\u001b[43m \u001b[49m\u001b[43mcolor\u001b[49m\u001b[43m \u001b[49m\u001b[38;5;241;43m=\u001b[39;49m\u001b[43m \u001b[49m\u001b[38;5;124;43m'\u001b[39;49m\u001b[38;5;124;43mlightgray\u001b[39;49m\u001b[38;5;124;43m'\u001b[39;49m\u001b[43m)\u001b[49m\n\u001b[1;32m     91\u001b[0m infected_dogs[\u001b[38;5;124m'\u001b[39m\u001b[38;5;124mgeometry\u001b[39m\u001b[38;5;124m'\u001b[39m]\u001b[38;5;241m.\u001b[39mplot(ax \u001b[38;5;241m=\u001b[39m ax, color \u001b[38;5;241m=\u001b[39m \u001b[38;5;124m'\u001b[39m\u001b[38;5;124mlightgray\u001b[39m\u001b[38;5;124m'\u001b[39m)\n\u001b[1;32m     92\u001b[0m \u001b[38;5;28;01mif\u001b[39;00m \u001b[38;5;28mlen\u001b[39m(recovered_dogs) \u001b[38;5;241m>\u001b[39m \u001b[38;5;241m0\u001b[39m :\n",
      "File \u001b[0;32m~/Library/Caches/pypoetry/virtualenvs/dog-epidemic-Lyx7x4Cc-py3.13/lib/python3.13/site-packages/geopandas/geoseries.py:953\u001b[0m, in \u001b[0;36mGeoSeries.plot\u001b[0;34m(self, *args, **kwargs)\u001b[0m\n\u001b[1;32m    951\u001b[0m \u001b[38;5;129m@doc\u001b[39m(plot_series)\n\u001b[1;32m    952\u001b[0m \u001b[38;5;28;01mdef\u001b[39;00m\u001b[38;5;250m \u001b[39m\u001b[38;5;21mplot\u001b[39m(\u001b[38;5;28mself\u001b[39m, \u001b[38;5;241m*\u001b[39margs, \u001b[38;5;241m*\u001b[39m\u001b[38;5;241m*\u001b[39mkwargs):\n\u001b[0;32m--> 953\u001b[0m     \u001b[38;5;28;01mreturn\u001b[39;00m \u001b[43mplot_series\u001b[49m\u001b[43m(\u001b[49m\u001b[38;5;28;43mself\u001b[39;49m\u001b[43m,\u001b[49m\u001b[43m \u001b[49m\u001b[38;5;241;43m*\u001b[39;49m\u001b[43margs\u001b[49m\u001b[43m,\u001b[49m\u001b[43m \u001b[49m\u001b[38;5;241;43m*\u001b[39;49m\u001b[38;5;241;43m*\u001b[39;49m\u001b[43mkwargs\u001b[49m\u001b[43m)\u001b[49m\n",
      "File \u001b[0;32m~/Library/Caches/pypoetry/virtualenvs/dog-epidemic-Lyx7x4Cc-py3.13/lib/python3.13/site-packages/geopandas/plotting.py:385\u001b[0m, in \u001b[0;36mplot_series\u001b[0;34m(s, cmap, color, ax, figsize, aspect, autolim, **style_kwds)\u001b[0m\n\u001b[1;32m    383\u001b[0m     bounds \u001b[38;5;241m=\u001b[39m s\u001b[38;5;241m.\u001b[39mtotal_bounds\n\u001b[1;32m    384\u001b[0m     y_coord \u001b[38;5;241m=\u001b[39m np\u001b[38;5;241m.\u001b[39mmean([bounds[\u001b[38;5;241m1\u001b[39m], bounds[\u001b[38;5;241m3\u001b[39m]])\n\u001b[0;32m--> 385\u001b[0m     \u001b[43max\u001b[49m\u001b[38;5;241;43m.\u001b[39;49m\u001b[43mset_aspect\u001b[49m\u001b[43m(\u001b[49m\u001b[38;5;241;43m1\u001b[39;49m\u001b[43m \u001b[49m\u001b[38;5;241;43m/\u001b[39;49m\u001b[43m \u001b[49m\u001b[43mnp\u001b[49m\u001b[38;5;241;43m.\u001b[39;49m\u001b[43mcos\u001b[49m\u001b[43m(\u001b[49m\u001b[43my_coord\u001b[49m\u001b[43m \u001b[49m\u001b[38;5;241;43m*\u001b[39;49m\u001b[43m \u001b[49m\u001b[43mnp\u001b[49m\u001b[38;5;241;43m.\u001b[39;49m\u001b[43mpi\u001b[49m\u001b[43m \u001b[49m\u001b[38;5;241;43m/\u001b[39;49m\u001b[43m \u001b[49m\u001b[38;5;241;43m180\u001b[39;49m\u001b[43m)\u001b[49m\u001b[43m)\u001b[49m\n\u001b[1;32m    386\u001b[0m     \u001b[38;5;66;03m# formula ported from R package sp\u001b[39;00m\n\u001b[1;32m    387\u001b[0m     \u001b[38;5;66;03m# https://github.com/edzer/sp/blob/master/R/mapasp.R\u001b[39;00m\n\u001b[1;32m    388\u001b[0m \u001b[38;5;28;01melse\u001b[39;00m:\n\u001b[1;32m    389\u001b[0m     ax\u001b[38;5;241m.\u001b[39mset_aspect(\u001b[38;5;124m\"\u001b[39m\u001b[38;5;124mequal\u001b[39m\u001b[38;5;124m\"\u001b[39m)\n",
      "File \u001b[0;32m~/Library/Caches/pypoetry/virtualenvs/dog-epidemic-Lyx7x4Cc-py3.13/lib/python3.13/site-packages/matplotlib/axes/_base.py:1692\u001b[0m, in \u001b[0;36m_AxesBase.set_aspect\u001b[0;34m(self, aspect, adjustable, anchor, share)\u001b[0m\n\u001b[1;32m   1690\u001b[0m     aspect \u001b[38;5;241m=\u001b[39m \u001b[38;5;28mfloat\u001b[39m(aspect)  \u001b[38;5;66;03m# raise ValueError if necessary\u001b[39;00m\n\u001b[1;32m   1691\u001b[0m     \u001b[38;5;28;01mif\u001b[39;00m aspect \u001b[38;5;241m<\u001b[39m\u001b[38;5;241m=\u001b[39m \u001b[38;5;241m0\u001b[39m \u001b[38;5;129;01mor\u001b[39;00m \u001b[38;5;129;01mnot\u001b[39;00m np\u001b[38;5;241m.\u001b[39misfinite(aspect):\n\u001b[0;32m-> 1692\u001b[0m         \u001b[38;5;28;01mraise\u001b[39;00m \u001b[38;5;167;01mValueError\u001b[39;00m(\u001b[38;5;124m\"\u001b[39m\u001b[38;5;124maspect must be finite and positive \u001b[39m\u001b[38;5;124m\"\u001b[39m)\n\u001b[1;32m   1694\u001b[0m \u001b[38;5;28;01mif\u001b[39;00m share:\n\u001b[1;32m   1695\u001b[0m     axes \u001b[38;5;241m=\u001b[39m {sibling \u001b[38;5;28;01mfor\u001b[39;00m name \u001b[38;5;129;01min\u001b[39;00m \u001b[38;5;28mself\u001b[39m\u001b[38;5;241m.\u001b[39m_axis_names\n\u001b[1;32m   1696\u001b[0m             \u001b[38;5;28;01mfor\u001b[39;00m sibling \u001b[38;5;129;01min\u001b[39;00m \u001b[38;5;28mself\u001b[39m\u001b[38;5;241m.\u001b[39m_shared_axes[name]\u001b[38;5;241m.\u001b[39mget_siblings(\u001b[38;5;28mself\u001b[39m)}\n",
      "\u001b[0;31mValueError\u001b[0m: aspect must be finite and positive "
     ]
    },
    {
     "data": {
      "image/png": "[encoded data removed]",
      "text/plain": [
       "<Figure size 1500x1500 with 1 Axes>"
      ]
     },
     "metadata": {},
     "output_type": "display_data"
    }
   ],
   "source": [
    "# set parameters\n",
    "n_generation_intervals = 2\n",
    "percent_infected = 0.005\n",
    "i = 0\n",
    "frame = 0\n",
    "SEIR_report = pd.DataFrame({'Susceptible': [], \n",
    "                            'Exposed': [], \n",
    "                            'Infected': [], \n",
    "                            'Recovered': []})\n",
    "R_report = pd.DataFrame()\n",
    "\n",
    "# Set initial conditions\n",
    "\n",
    "# Randomly infect the first generation of dogs\n",
    "exposed_dogs = all_dogs.sample(10)\n",
    "\n",
    "# Remove infected dogs from susceptible dogs \n",
    "susceptible_dogs = pd.merge(all_dogs.set_index('ID'), \n",
    "                             exposed_dogs['ID'], \n",
    "                             on = ['ID'], how = 'outer',\n",
    "                             suffixes = ('', '_ex'),\n",
    "                             indicator=True).query('_merge==\"left_only\"').drop('_merge', axis = 1)\n",
    "\n",
    "recovered_dogs = pd.DataFrame()\n",
    "\n",
    "infected_dogs = pd.DataFrame()\n",
    "\n",
    "new_row = pd.DataFrame.from_records([{'Susceptible': len(susceptible_dogs), \n",
    "           'Exposed': len(exposed_dogs),\n",
    "           'Infected': len(infected_dogs),\n",
    "           'Recovered': len(recovered_dogs)}])\n",
    "SEIR_report = pd.concat([SEIR_report, new_row], ignore_index=True)\n",
    "\n",
    "# Run simulation for n generation intervals\n",
    "while i < n_generation_intervals: \n",
    "    i = i + 1\n",
    "    # Move dogs to next compartment\n",
    "    recovered_dogs = pd.concat([recovered_dogs, infected_dogs])\n",
    "    infected_dogs = exposed_dogs\n",
    "    exposed_dogs = pd.DataFrame()\n",
    "\n",
    "    # Show infected dogs at start of step\n",
    "    fig, ax = plt.subplots(figsize=(15, 15))\n",
    "    figname = 'Figures/' + str(frame) + '.png'\n",
    "    infected_dogs['geometry'].plot(ax = ax, color = 'lightgray')\n",
    "    if len(recovered_dogs) > 0 :\n",
    "        recovered_dogs['geometry'].plot(ax = ax, color = 'lightgray')\n",
    "        recovered_dogs['locations'].plot(ax = ax, color = 'lavender')\n",
    "    infected_dogs['locations'].plot(ax = ax, color = 'red')\n",
    "    fig.savefig(figname, format= 'png')\n",
    "    plt.close(fig)\n",
    "    frame = frame + 1\n",
    "\n",
    "    # Create walks for infected dogs \n",
    "    infected_dogs['walk'] = infected_dogs.apply(utils.create_walk, axis =1, location = 'locations', distance = 0.005, buffer = 0.0005)\n",
    "\n",
    "    # Show area of exposure\n",
    "    fig, ax = plt.subplots(figsize=(15, 15))\n",
    "    figname = 'Figures/' + str(frame) + '.png'\n",
    "    infected_dogs['geometry'].plot(ax = ax, color = 'lightgray')\n",
    "    if len(recovered_dogs) > 0 :\n",
    "        recovered_dogs['geometry'].plot(ax = ax, color = 'lightgray')\n",
    "        recovered_dogs['locations'].plot(ax = ax, color = 'lavender')\n",
    "    infected_dogs['walk'].plot(ax = ax, color = 'pink')\n",
    "    infected_dogs['locations'].plot(ax = ax, color = 'red')\n",
    "    fig.savefig(figname, format= 'png')\n",
    "    plt.close(fig)\n",
    "    frame = frame + 1\n",
    "\n",
    "    # Find all dogs exposed during this step\n",
    "    for index, row in infected_dogs.iterrows():\n",
    "        new_exposures = utils.infect_dog_along_walk(row,\n",
    "                            walk = 'walk',\n",
    "                            infected_dogs=infected_dogs, \n",
    "                            recovered_dogs=recovered_dogs, \n",
    "                            susceptible_dogs=susceptible_dogs,\n",
    "                            exposed_dogs= exposed_dogs,\n",
    "                            location='locations', \n",
    "                            percent_infected=percent_infected)\n",
    "        exposed_dogs= pd.concat([exposed_dogs,new_exposures])\n",
    "\n",
    "    susceptible_dogs = pd.merge(susceptible_dogs.set_index('ID'), \n",
    "                             exposed_dogs['ID'], \n",
    "                             on = ['ID'], how = 'outer',\n",
    "                             suffixes = ('', '_ex'),\n",
    "                             indicator=True).query('_merge==\"left_only\"').drop('_merge', axis = 1)\n",
    "    # Plot newly exposed dogs \n",
    "    fig, ax = plt.subplots(figsize=(15, 15))\n",
    "    figname = 'Figures/' + str(frame) + '.png'\n",
    "    exposed_dogs['geometry'].plot(ax = ax, color = 'lightgray')\n",
    "    infected_dogs['geometry'].plot(ax = ax, color = 'lightgray')\n",
    "    if len(recovered_dogs) > 0 :\n",
    "        recovered_dogs['geometry'].plot(ax = ax, color = 'lightgray')\n",
    "        recovered_dogs['locations'].plot(ax = ax, color = 'lavender')\n",
    "    infected_dogs['walk'].plot(ax = ax, color = 'pink')\n",
    "    infected_dogs['locations'].plot(ax = ax, color = 'red')\n",
    "    exposed_dogs['locations'].plot(ax = ax, color = 'black')\n",
    "    fig.savefig(figname, format= 'png')\n",
    "    plt.close(fig)\n",
    "    frame = frame + 1\n",
    "\n",
    "    new_row = pd.DataFrame.from_records([{'Susceptible': len(susceptible_dogs), \n",
    "           'Exposed': len(exposed_dogs),\n",
    "           'Infected': len(infected_dogs),\n",
    "           'Recovered': len(recovered_dogs)}])\n",
    "    SEIR_report = pd.concat([SEIR_report, new_row], ignore_index=True)"
   ]
  }
 ],
 "metadata": {
  "kernelspec": {
   "display_name": "dog-epidemic-Lyx7x4Cc-py3.13",
   "language": "python",
   "name": "python3"
  },
  "language_info": {
   "codemirror_mode": {
    "name": "ipython",
    "version": 3
   },
   "file_extension": ".py",
   "mimetype": "text/x-python",
   "name": "python",
   "nbconvert_exporter": "python",
   "pygments_lexer": "ipython3",
   "version": "3.13.1"
  }
 },
 "nbformat": 4,
 "nbformat_minor": 2
}
